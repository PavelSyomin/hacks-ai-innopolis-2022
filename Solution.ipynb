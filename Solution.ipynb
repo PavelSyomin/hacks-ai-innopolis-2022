{
 "cells": [
  {
   "cell_type": "code",
   "execution_count": null,
   "id": "4bbcad00",
   "metadata": {
    "cellId": "8fu7jsnlgz3dttkbda9i8b"
   },
   "outputs": [],
   "source": [
    "#!c1.32\n",
    "import geojson\n",
    "import numpy as np\n",
    "import pandas as pd\n",
    "from shapely.geometry import shape\n",
    "from lightgbm import LGBMClassifier\n",
    "from sklearn.base import BaseEstimator, TransformerMixin\n",
    "from sklearn.metrics import make_scorer, recall_score\n",
    "from sklearn.model_selection import GridSearchCV\n",
    "from sklearn.pipeline import Pipeline\n",
    "from sktime.transformations.panel.catch22 import Catch22\n",
    "\n",
    "\n",
    "%matplotlib inline"
   ]
  },
  {
   "cell_type": "markdown",
   "id": "52465322",
   "metadata": {
    "cellId": "nddf77ylqss27tvmruipan",
    "execution_id": "0c50e2af-0930-42b5-9e67-936de0ebdc83"
   },
   "source": [
    "# Загрузка данных"
   ]
  },
  {
   "cell_type": "code",
   "execution_count": null,
   "id": "7bb0e67e",
   "metadata": {
    "cellId": "otz8mr29mplxapaulb2o9"
   },
   "outputs": [],
   "source": [
    "#!c1.32\n",
    "df = pd.read_csv(\"train.csv\")\n",
    "test = pd.read_csv(\"test.csv\")"
   ]
  },
  {
   "cell_type": "code",
   "execution_count": null,
   "id": "2a69fc81",
   "metadata": {
    "cellId": "0fptzkp8jnvkaaezpr5m8j5"
   },
   "outputs": [],
   "source": [
    "#!c1.32\n",
    "df.head(3)"
   ]
  },
  {
   "cell_type": "code",
   "execution_count": null,
   "id": "dcf74b1b",
   "metadata": {
    "cellId": "ok2ghcgw8ezcbvexkq3zn"
   },
   "outputs": [],
   "source": [
    "#!c1.32\n",
    "X = df.drop(columns=[\"id\", \"crop\"])\n",
    "y = df[\"crop\"]"
   ]
  },
  {
   "cell_type": "markdown",
   "id": "8a43536b",
   "metadata": {
    "cellId": "gnskpdcxp2ogtpyr2c3954",
    "execution_id": "867f8c3b-f4c2-4681-a74a-4ba829b0f109"
   },
   "source": [
    "# Функции и трансформеры"
   ]
  },
  {
   "cell_type": "code",
   "execution_count": null,
   "id": "9a7acdab",
   "metadata": {
    "cellId": "naar5epvcrsp9yyywyb6t"
   },
   "outputs": [],
   "source": [
    "#!c1.32\n",
    "recall_scorer = make_scorer(recall_score, average=\"macro\", zero_division=0) # нужен для grid search"
   ]
  },
  {
   "cell_type": "code",
   "execution_count": null,
   "id": "482d36c3",
   "metadata": {
    "cellId": "82c2rvmjqgm97kgq4k3a4"
   },
   "outputs": [],
   "source": [
    "#!c1.32\n",
    "def save_submission(test_data, transformer, model, suffix):\n",
    "    \"\"\"делает предсказание и сохраняет его в файл\"\"\"\n",
    "    ids = test_data[\"id\"].to_list()\n",
    "    X_test = test_data.drop([\"id\"], axis=1)\n",
    "    X_test = transformer.fit_transform(X_test)\n",
    "    y_pred = model.predict(X_test)\n",
    "    submission = pd.DataFrame({\"id\": ids, \"crop\": y_pred})\n",
    "    submission.to_csv(f\"submission_{suffix}.csv\", index=None)"
   ]
  },
  {
   "cell_type": "code",
   "execution_count": null,
   "id": "3fc1fdb1",
   "metadata": {
    "cellId": "y775b6b4ztc04flkw8023xi"
   },
   "outputs": [],
   "source": [
    "#!c1.32\n",
    "def count_edges(shape):\n",
    "    \"\"\"считает количество углов в контуре поля\"\"\"\n",
    "    shape_type = shape.type\n",
    "    if shape_type == \"Polygon\":\n",
    "        n_edges = len(shape.exterior.coords)\n",
    "    elif shape_type == \"MultiPolygon\":\n",
    "        n_edges = sum([len(contour.exterior.coords) for contour in shape.geoms])\n",
    "    elif shape_type == \"GeometryCollection\":\n",
    "        n_edges = 0\n",
    "        for element in shape.geoms:\n",
    "            if element.type == \"Polygon\":\n",
    "                n_edges += len(element.exterior.coords)\n",
    "    else:\n",
    "        n_edges = np.nan                \n",
    "        \n",
    "    return n_edges\n",
    "\n",
    "class GeoTransformer(BaseEstimator, TransformerMixin):\n",
    "    \"\"\"трансформер для извлечения признаков из контура поля, представленного в колонке .geo\"\"\"\n",
    "    def __init__(self, edges=False, length=False, derived=False, computed_area=False):\n",
    "        self.edges = edges\n",
    "        self.length = length\n",
    "        self.derived = derived\n",
    "        self.computed_area = computed_area\n",
    "    \n",
    "    def fit(self, X, y=None):\n",
    "        return self\n",
    "    \n",
    "    def transform(self, X, y=None):\n",
    "        result = X.copy()\n",
    "        result[\"shape\"] = result[\".geo\"].apply(lambda x: shape(geojson.loads(x)))\n",
    "        result[\"lon\"] = result[\"shape\"].apply(lambda x: x.representative_point().coords[0][0])\n",
    "        result[\"lat\"] = result[\"shape\"].apply(lambda x: x.representative_point().coords[0][1])\n",
    "        \n",
    "        if self.edges:\n",
    "            result[\"edges\"] = result[\"shape\"].apply(count_edges)\n",
    "        if self.length:\n",
    "            result[\"length\"] = result[\"shape\"].apply(lambda x: x.length)\n",
    "        if self.derived:\n",
    "            result[\"edges_per_length\"] = result[\"edges\"] / result[\"length\"]\n",
    "            result[\"area_per_length\"] = result[\"area\"] / result[\"length\"]\n",
    "            result[\"area_per_edge\"] = result[\"area\"] / result[\"edges\"]\n",
    "        if self.computed_area:\n",
    "            result[\"computed_area\"] = result[\"shape\"].apply(lambda x: x.area)\n",
    "            \n",
    "        result.drop(columns=[\"shape\", \".geo\"], inplace=True)\n",
    "        \n",
    "        return result"
   ]
  },
  {
   "cell_type": "code",
   "execution_count": null,
   "id": "165d93e4",
   "metadata": {
    "cellId": "wnwadov4siskzwbkh5k6ua"
   },
   "outputs": [],
   "source": [
    "#!c1.32\n",
    "class DescStatFeatureGenerator(BaseEstimator, TransformerMixin):\n",
    "    \"\"\"генератор описательных статистик\"\"\"\n",
    "    def __init__(self):\n",
    "        pass\n",
    "    \n",
    "    def fit(self, X, y=None):\n",
    "        return self\n",
    "    \n",
    "    def transform(self, X, y=None):\n",
    "        result = X.copy()\n",
    "        result[\"nd_mean\"] = result.loc[:, result.columns.str.contains(\"nd\")].mean(axis=1)\n",
    "        result[\"nd_min\"] = result.loc[:, result.columns.str.contains(\"nd\")].min(axis=1)\n",
    "        result[\"nd_max\"] = result.loc[:, result.columns.str.contains(\"nd\")].max(axis=1)\n",
    "        result[\"nd_std\"] = result.loc[:, result.columns.str.contains(\"nd\")].std(axis=1)\n",
    "        result[\"nd_sum\"] = result.loc[:, result.columns.str.contains(\"nd\")].sum(axis=1)\n",
    "        for q in range(1, 20):\n",
    "            colname = f\"nd_q{q}\"\n",
    "            result[colname] = result.loc[:, result.columns.str.contains(\"nd\")].quantile(q / 20, axis=1)\n",
    "        \n",
    "        return result"
   ]
  },
  {
   "cell_type": "code",
   "execution_count": null,
   "id": "fa95e45d",
   "metadata": {
    "cellId": "h2ivl6kxhcyve2a4opgk"
   },
   "outputs": [],
   "source": [
    "#!c1.32\n",
    "class MissingTSSummator(BaseEstimator, TransformerMixin):\n",
    "    \"\"\"трансформер, считающий количество пропусков во временном ряде NDVI\"\"\"\n",
    "    def __init__(self, col_prefix=\"nd_mean_\"):\n",
    "        self.col_prefix = col_prefix        \n",
    "    \n",
    "    def fit(self, X, y=None):\n",
    "        return self\n",
    "    \n",
    "    def transform(self, X, y=None):\n",
    "        result = X.copy()\n",
    "        result[\"missing_count\"] = result.loc[:, result.columns.str.contains(self.col_prefix)].apply(lambda x: len(x[x == 0]), axis=1)\n",
    "        \n",
    "        return result"
   ]
  },
  {
   "cell_type": "code",
   "execution_count": null,
   "id": "9154355f",
   "metadata": {
    "cellId": "2ob386ll50nb4fcga8n407"
   },
   "outputs": [],
   "source": [
    "#!c1.32\n",
    "class Catch22FeatureGenerator(BaseEstimator, TransformerMixin):\n",
    "    \"\"\"генератор признаков catch22 из sktime\"\"\"\n",
    "    def __init__(self, col_prefix=\"nd_mean_\"):\n",
    "        self.col_prefix = col_prefix\n",
    "    \n",
    "    def fit(self, X, y=None):\n",
    "        return self\n",
    "    \n",
    "    def transform(self, X, y=None):\n",
    "        result = X.copy()\n",
    "        features = []\n",
    "        \n",
    "        for _, row in result.iterrows():\n",
    "            series = row[row.index.str.contains(self.col_prefix)].astype(\"float32\").to_numpy()\n",
    "            feature_row = Catch22().fit_transform(series)\n",
    "            features.append(feature_row)\n",
    "        catch22_df = pd.concat(features)\n",
    "        catch22_df.rename(columns=lambda x: f\"catch22_f{x}\", inplace=True)\n",
    "        catch22_df.reset_index(drop=True, inplace=True)\n",
    "        \n",
    "        assert catch22_df.shape[0] == result.shape[0]\n",
    "        result = pd.concat([result, catch22_df], axis=1)       \n",
    "        \n",
    "        return result"
   ]
  },
  {
   "cell_type": "code",
   "execution_count": null,
   "id": "0e37b9a1",
   "metadata": {
    "cellId": "6932w80h24st0947yp0fbq"
   },
   "outputs": [],
   "source": [
    "#!c1.32\n",
    "# общий pipeline из трансформеров\n",
    "transformer = Pipeline([\n",
    "    (\"geo\", GeoTransformer(edges=True)),\n",
    "    (\"count_missing\", MissingTSSummator()),\n",
    "    (\"catch22\", Catch22FeatureGenerator()),\n",
    "    (\"stats\", DescStatFeatureGenerator())\n",
    "])"
   ]
  },
  {
   "cell_type": "markdown",
   "id": "4aa1758e",
   "metadata": {
    "cellId": "8lxej068my9oomwa2wgoi",
    "execution_id": "d4363b0b-5eb8-48ba-8209-70ff6b1e96a6"
   },
   "source": [
    "# LightGBM Classifier и поиск гиперпараметров"
   ]
  },
  {
   "cell_type": "code",
   "execution_count": null,
   "id": "bc06bfcf",
   "metadata": {
    "cellId": "owqd5thlbacvqo6lieco"
   },
   "outputs": [],
   "source": [
    "#!c1.32\n",
    "# ищем оптимальные параметры\n",
    "# в этой ячейке — большой поиск из кучи вариантов\n",
    "gs_params = {\n",
    "    \"num_leaves\": range(10, 31, 10),\n",
    "    \"max_depth\": range(4, 11),\n",
    "    \"learning_rate\": [0.001, 0.01, 0.1, 0.2, 0.5, 0.7, 1],\n",
    "    \"reg_lambda\": [0, 1, 10],\n",
    "    \"n_estimators\": [10, 25, 50, 100, 200, 500]\n",
    "}\n",
    "\n",
    "gs = GridSearchCV(LGBMClassifier(boosting_type=\"dart\", random_state=42),\n",
    "                  gs_params, scoring=recall_scorer,\n",
    "                  cv=3, verbose=1, n_jobs=32)\n",
    "gs.fit(transformer.fit_transform(X), y)\n",
    "gs.best_score_, gs.best_estimator_"
   ]
  },
  {
   "cell_type": "code",
   "execution_count": null,
   "id": "60f2ae2f",
   "metadata": {
    "cellId": "s9nbcr29uurx2sslbjinv"
   },
   "outputs": [],
   "source": [
    "#!c1.32\n",
    "# Для справки: вот тут набор параметров поиска, который дал лучшее из моих решений\n",
    "gs_params_2 = {\n",
    "    \"num_leaves\": range(15, 26, 5),\n",
    "    \"max_depth\": range(6, 7),\n",
    "    \"learning_rate\": [0.25, 0.5, 0.75],\n",
    "    \"reg_lambda\": [0],\n",
    "    \"n_estimators\": [500]\n",
    "}\n",
    "# лучшее решение по скору на лидерборде\n",
    "# (метрика на тесте, параметры классификатора)\n",
    "# (0.9715540202322158,\n",
    "# LGBMClassifier(boosting_type='dart', learning_rate=0.25, max_depth=6,\n",
    "#                n_estimators=500, num_leaves=15, random_state=42, reg_lambda=0))"
   ]
  },
  {
   "cell_type": "code",
   "execution_count": null,
   "id": "fbcc52a4",
   "metadata": {
    "cellId": "jlwiaejra8cn4ordgt89v"
   },
   "outputs": [],
   "source": [
    "#!c1.32\n",
    "# делаем прогноз и сохраняем его\n",
    "save_submission(test, transformer, gs.best_estimator_, \"final\")"
   ]
  },
  {
   "cell_type": "code",
   "execution_count": null,
   "id": "bd346884",
   "metadata": {
    "cellId": "o065fu252p4spg4t1o508"
   },
   "outputs": [],
   "source": [
    "#!c1.32"
   ]
  }
 ],
 "metadata": {
  "language_info": {
   "codemirror_mode": {
    "name": "ipython",
    "version": 3
   },
   "file_extension": ".py",
   "mimetype": "text/x-python",
   "name": "python",
   "nbconvert_exporter": "python",
   "pygments_lexer": "ipython3",
   "version": "3.7.7"
  },
  "notebookId": "f8a6789c-50b1-497d-85d5-1401e348ed39",
  "notebookPath": "Untitled.ipynb"
 },
 "nbformat": 4,
 "nbformat_minor": 5
}
